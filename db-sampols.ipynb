{
 "cells": [
  {
   "cell_type": "code",
   "execution_count": 1,
   "metadata": {},
   "outputs": [
    {
     "name": "stdout",
     "output_type": "stream",
     "text": [
      "awesome\n",
      "qgenforthelazies-dev\n",
      "localhost\n",
      "5432\n"
     ]
    }
   ],
   "source": [
    "import os\n",
    "import pandas as pd\n",
    "from sqlalchemy import create_engine\n",
    "\n",
    "%load_ext dotenv\n",
    "%dotenv\n",
    "%reload_ext dotenv\n",
    "\n",
    "print(os.getenv(\"POSTGRES_USER\"))\n",
    "print(os.getenv(\"POSTGRES_DB\"))\n",
    "print(os.getenv(\"POSTGRES_HOST\"))\n",
    "print(os.getenv(\"POSTGRES_PORT\"))\n"
   ]
  },
  {
   "cell_type": "code",
   "execution_count": 2,
   "metadata": {},
   "outputs": [],
   "source": [
    "# connect to db\n",
    "def get_db():\n",
    "  engine = create_engine(\n",
    "    \"postgresql://\" + os.getenv(\"POSTGRES_USER\") +\":\"+ os.getenv(\"POSTGRES_PASSWORD\") + \"@\" + os.getenv(\"POSTGRES_HOST\") +\":\"+ os.getenv(\"POSTGRES_PORT\") +\"/\"+ os.getenv(\"POSTGRES_DB\")\n",
    "  )\n",
    "  # conn = psycopg2.connect(\n",
    "  #     host=os.getenv(\"POSTGRES_HOST\"),\n",
    "  #     port=os.getenv(\"POSTGRES_PORT\"),\n",
    "  #     user=os.getenv(\"POSTGRES_USER\"),\n",
    "  #     password=os.getenv(\"POSTGRES_PASSWORD\"),\n",
    "  #     dbname=os.getenv(\"POSTGRES_DB\")\n",
    "  # )\n",
    "  return engine\n"
   ]
  },
  {
   "cell_type": "code",
   "execution_count": 3,
   "metadata": {},
   "outputs": [],
   "source": [
    "# read raws\n",
    "def load_raws ():\n",
    "  with open(\"./raws/sample01.txt\", \"r\") as f:\n",
    "      df = pd.DataFrame(f.readlines())\n",
    "      return df.drop(df[df[0] == \"\\n\"].index)"
   ]
  },
  {
   "cell_type": "code",
   "execution_count": 13,
   "metadata": {},
   "outputs": [],
   "source": [
    "# save to db\n",
    "def save_to_db ():\n",
    "    df = pd.DataFrame({\"text\": load_raws()[0]})\n",
    "    engine = get_db()\n",
    "    df.to_sql('chunk-o-texts', engine, if_exists='replace', index=False)\n",
    "    return df\n",
    "\n",
    "def save_to_file ():\n",
    "    df = pd.DataFrame({\"text\": load_raws()[0]})\n",
    "    df.to_csv('./staging/chunk-o-texts.csv', index=False)\n",
    "    return df\n"
   ]
  },
  {
   "cell_type": "code",
   "execution_count": 19,
   "metadata": {},
   "outputs": [
    {
     "data": {
      "text/html": [
       "<div>\n",
       "<style scoped>\n",
       "    .dataframe tbody tr th:only-of-type {\n",
       "        vertical-align: middle;\n",
       "    }\n",
       "\n",
       "    .dataframe tbody tr th {\n",
       "        vertical-align: top;\n",
       "    }\n",
       "\n",
       "    .dataframe thead th {\n",
       "        text-align: right;\n",
       "    }\n",
       "</style>\n",
       "<table border=\"1\" class=\"dataframe\">\n",
       "  <thead>\n",
       "    <tr style=\"text-align: right;\">\n",
       "      <th></th>\n",
       "      <th>text</th>\n",
       "    </tr>\n",
       "  </thead>\n",
       "  <tbody>\n",
       "    <tr>\n",
       "      <th>0</th>\n",
       "      <td>In a land of dragons and magic, the kingdom of...</td>\n",
       "    </tr>\n",
       "    <tr>\n",
       "      <th>2</th>\n",
       "      <td>A group of brave warriors set out on a quest t...</td>\n",
       "    </tr>\n",
       "    <tr>\n",
       "      <th>4</th>\n",
       "      <td>As they drew closer to the source of the darkn...</td>\n",
       "    </tr>\n",
       "    <tr>\n",
       "      <th>6</th>\n",
       "      <td>With peace restored, the kingdom of Lorem Ipsu...</td>\n",
       "    </tr>\n",
       "  </tbody>\n",
       "</table>\n",
       "</div>"
      ],
      "text/plain": [
       "                                                text\n",
       "0  In a land of dragons and magic, the kingdom of...\n",
       "2  A group of brave warriors set out on a quest t...\n",
       "4  As they drew closer to the source of the darkn...\n",
       "6  With peace restored, the kingdom of Lorem Ipsu..."
      ]
     },
     "execution_count": 19,
     "metadata": {},
     "output_type": "execute_result"
    }
   ],
   "source": [
    "# save\n",
    "save_to_db()\n",
    "save_to_file()\n"
   ]
  },
  {
   "cell_type": "code",
   "execution_count": 24,
   "metadata": {},
   "outputs": [
    {
     "data": {
      "text/html": [
       "<div>\n",
       "<style scoped>\n",
       "    .dataframe tbody tr th:only-of-type {\n",
       "        vertical-align: middle;\n",
       "    }\n",
       "\n",
       "    .dataframe tbody tr th {\n",
       "        vertical-align: top;\n",
       "    }\n",
       "\n",
       "    .dataframe thead th {\n",
       "        text-align: right;\n",
       "    }\n",
       "</style>\n",
       "<table border=\"1\" class=\"dataframe\">\n",
       "  <thead>\n",
       "    <tr style=\"text-align: right;\">\n",
       "      <th></th>\n",
       "      <th>text</th>\n",
       "    </tr>\n",
       "  </thead>\n",
       "  <tbody>\n",
       "    <tr>\n",
       "      <th>0</th>\n",
       "      <td>In a land of dragons and magic, the kingdom of...</td>\n",
       "    </tr>\n",
       "    <tr>\n",
       "      <th>1</th>\n",
       "      <td>A group of brave warriors set out on a quest t...</td>\n",
       "    </tr>\n",
       "    <tr>\n",
       "      <th>2</th>\n",
       "      <td>As they drew closer to the source of the darkn...</td>\n",
       "    </tr>\n",
       "    <tr>\n",
       "      <th>3</th>\n",
       "      <td>With peace restored, the kingdom of Lorem Ipsu...</td>\n",
       "    </tr>\n",
       "  </tbody>\n",
       "</table>\n",
       "</div>"
      ],
      "text/plain": [
       "                                                text\n",
       "0  In a land of dragons and magic, the kingdom of...\n",
       "1  A group of brave warriors set out on a quest t...\n",
       "2  As they drew closer to the source of the darkn...\n",
       "3  With peace restored, the kingdom of Lorem Ipsu..."
      ]
     },
     "execution_count": 24,
     "metadata": {},
     "output_type": "execute_result"
    }
   ],
   "source": [
    "df = pd.read_csv(\"./staging/chunk-o-texts.csv\")\n",
    "# df['some_field'] = df.apply(lambda x: \"--\"+x)"
   ]
  }
 ],
 "metadata": {
  "kernelspec": {
   "display_name": "Python 3 (ipykernel)",
   "language": "python",
   "name": "python3"
  },
  "language_info": {
   "codemirror_mode": {
    "name": "ipython",
    "version": 3
   },
   "file_extension": ".py",
   "mimetype": "text/x-python",
   "name": "python",
   "nbconvert_exporter": "python",
   "pygments_lexer": "ipython3",
   "version": "3.10.6"
  },
  "orig_nbformat": 4
 },
 "nbformat": 4,
 "nbformat_minor": 2
}
