{
 "cells": [
  {
   "cell_type": "code",
   "execution_count": 161,
   "metadata": {},
   "outputs": [
    {
     "name": "stdout",
     "output_type": "stream",
     "text": [
      "The dotenv extension is already loaded. To reload it, use:\n",
      "  %reload_ext dotenv\n"
     ]
    },
    {
     "data": {
      "text/plain": [
       "{'db': {'user': 'awesome',\n",
       "  'dbname': 'qgenforthelazies-dev',\n",
       "  'host': 'localhost',\n",
       "  'port': '5432'}}"
      ]
     },
     "execution_count": 161,
     "metadata": {},
     "output_type": "execute_result"
    }
   ],
   "source": [
    "import os\n",
    "import pandas as pd\n",
    "from sqlalchemy import create_engine\n",
    "import openai\n",
    "import numpy\n",
    "\n",
    "import hashlib\n",
    "\n",
    "%load_ext dotenv\n",
    "%dotenv\n",
    "%reload_ext dotenv\n",
    "\n",
    "openai.api_key = os.getenv('OPENAI_API_KEY')\n",
    "\n",
    "env_config = {\n",
    "    \"db\": {\n",
    "      \"user\": os.getenv(\"POSTGRES_USER\") or \"\",\n",
    "      \"dbname\": os.getenv(\"POSTGRES_DB\") or \"\",\n",
    "      \"host\": os.getenv(\"POSTGRES_HOST\") or \"\",\n",
    "      \"port\": os.getenv(\"POSTGRES_PORT\") or \"\",\n",
    "    }\n",
    "}\n",
    "\n",
    "secret = {\n",
    "  \"db\": {\n",
    "    \"password\": os.getenv(\"POSTGRES_PASSWORD\") or \"\"\n",
    "  }\n",
    "}\n",
    "\n",
    "env_config\n"
   ]
  },
  {
   "cell_type": "code",
   "execution_count": 162,
   "metadata": {},
   "outputs": [],
   "source": [
    "# connect to db\n",
    "def get_db():\n",
    "  conf = env_config[\"db\"]\n",
    "  password = secret[\"db\"][\"password\"]\n",
    "  engine = create_engine(\n",
    "    \"postgresql://\" + conf[\"user\"] +\":\"+ password+ \"@\" + conf[\"host\"] +\":\"+ conf[\"port\"] +\"/\"+ conf[\"dbname\"]\n",
    "  )\n",
    "  # conn = psycopg2.connect(\n",
    "  #     host=os.getenv(\"POSTGRES_HOST\"),\n",
    "  #     port=os.getenv(\"POSTGRES_PORT\"),\n",
    "  #     user=os.getenv(\"POSTGRES_USER\"),\n",
    "  #     password=os.getenv(\"POSTGRES_PASSWORD\"),\n",
    "  #     dbname=os.getenv(\"POSTGRES_DB\")\n",
    "  # )\n",
    "  return engine\n"
   ]
  },
  {
   "cell_type": "code",
   "execution_count": 163,
   "metadata": {},
   "outputs": [
    {
     "data": {
      "text/html": [
       "<div>\n",
       "<style scoped>\n",
       "    .dataframe tbody tr th:only-of-type {\n",
       "        vertical-align: middle;\n",
       "    }\n",
       "\n",
       "    .dataframe tbody tr th {\n",
       "        vertical-align: top;\n",
       "    }\n",
       "\n",
       "    .dataframe thead th {\n",
       "        text-align: right;\n",
       "    }\n",
       "</style>\n",
       "<table border=\"1\" class=\"dataframe\">\n",
       "  <thead>\n",
       "    <tr style=\"text-align: right;\">\n",
       "      <th></th>\n",
       "      <th>group</th>\n",
       "      <th>version</th>\n",
       "      <th>file</th>\n",
       "    </tr>\n",
       "  </thead>\n",
       "  <tbody>\n",
       "    <tr>\n",
       "      <th>0</th>\n",
       "      <td>sample-fantasy01</td>\n",
       "      <td>01</td>\n",
       "      <td>./raws/sample01.txt</td>\n",
       "    </tr>\n",
       "  </tbody>\n",
       "</table>\n",
       "</div>"
      ],
      "text/plain": [
       "              group version                 file\n",
       "0  sample-fantasy01      01  ./raws/sample01.txt"
      ]
     },
     "execution_count": 163,
     "metadata": {},
     "output_type": "execute_result"
    }
   ],
   "source": [
    "# Raws, materials\n",
    "raws = pd.DataFrame(\n",
    "  [\n",
    "      { \"group\": \"sample-fantasy01\", \"version\": \"01\", \"file\": \"./raws/sample01.txt\" },\n",
    "  ]\n",
    ") \n",
    "\n",
    "raws"
   ]
  },
  {
   "cell_type": "code",
   "execution_count": 164,
   "metadata": {},
   "outputs": [],
   "source": [
    "# read raws\n",
    "def load_raws (filename):\n",
    "  with open(filename, \"r\") as f:\n",
    "      df = pd.DataFrame(f.readlines())\n",
    "      return df.drop(df[df[0] == \"\\n\"].index)\n",
    "\n",
    "def raws_to_df (filename, group, version):\n",
    "  df = pd.DataFrame({\"text\": load_raws(filename=filename)[0], \"group\": group, \"version\": version})\n",
    "  df[\"hash\"] = df[\"text\"].apply(lambda x: hashlib.md5(x.encode('utf-8')).hexdigest())\n",
    "  return df"
   ]
  },
  {
   "cell_type": "code",
   "execution_count": 165,
   "metadata": {},
   "outputs": [],
   "source": [
    "# save to db\n",
    "def save_to_db (df):\n",
    "    engine = get_db()\n",
    "    df.to_sql('chunk-o-texts', engine, if_exists='replace', index=False)\n",
    "    return df\n",
    "\n",
    "def save_to_file (df):\n",
    "    df.to_csv('./staging/chunk-o-texts.csv', index=False)\n",
    "    return df\n"
   ]
  },
  {
   "cell_type": "code",
   "execution_count": 166,
   "metadata": {},
   "outputs": [
    {
     "data": {
      "text/html": [
       "<div>\n",
       "<style scoped>\n",
       "    .dataframe tbody tr th:only-of-type {\n",
       "        vertical-align: middle;\n",
       "    }\n",
       "\n",
       "    .dataframe tbody tr th {\n",
       "        vertical-align: top;\n",
       "    }\n",
       "\n",
       "    .dataframe thead th {\n",
       "        text-align: right;\n",
       "    }\n",
       "</style>\n",
       "<table border=\"1\" class=\"dataframe\">\n",
       "  <thead>\n",
       "    <tr style=\"text-align: right;\">\n",
       "      <th></th>\n",
       "      <th>text</th>\n",
       "      <th>group</th>\n",
       "      <th>version</th>\n",
       "      <th>hash</th>\n",
       "    </tr>\n",
       "  </thead>\n",
       "  <tbody>\n",
       "    <tr>\n",
       "      <th>0</th>\n",
       "      <td>In a land of dragons and magic, the kingdom of...</td>\n",
       "      <td>sample-fantasy01</td>\n",
       "      <td>01</td>\n",
       "      <td>0621c17894597a66153ded7a5665aa89</td>\n",
       "    </tr>\n",
       "    <tr>\n",
       "      <th>2</th>\n",
       "      <td>A group of brave warriors set out on a quest t...</td>\n",
       "      <td>sample-fantasy01</td>\n",
       "      <td>01</td>\n",
       "      <td>41e3da99a58286a2be5605b30bebc665</td>\n",
       "    </tr>\n",
       "    <tr>\n",
       "      <th>4</th>\n",
       "      <td>As they drew closer to the source of the darkn...</td>\n",
       "      <td>sample-fantasy01</td>\n",
       "      <td>01</td>\n",
       "      <td>a8bc979797a4488b6a851dee6830b6e7</td>\n",
       "    </tr>\n",
       "    <tr>\n",
       "      <th>6</th>\n",
       "      <td>With peace restored, the kingdom of Lorem Ipsu...</td>\n",
       "      <td>sample-fantasy01</td>\n",
       "      <td>01</td>\n",
       "      <td>5f8d9aeab7822156c69811430520616f</td>\n",
       "    </tr>\n",
       "  </tbody>\n",
       "</table>\n",
       "</div>"
      ],
      "text/plain": [
       "                                                text             group  \\\n",
       "0  In a land of dragons and magic, the kingdom of...  sample-fantasy01   \n",
       "2  A group of brave warriors set out on a quest t...  sample-fantasy01   \n",
       "4  As they drew closer to the source of the darkn...  sample-fantasy01   \n",
       "6  With peace restored, the kingdom of Lorem Ipsu...  sample-fantasy01   \n",
       "\n",
       "  version                              hash  \n",
       "0      01  0621c17894597a66153ded7a5665aa89  \n",
       "2      01  41e3da99a58286a2be5605b30bebc665  \n",
       "4      01  a8bc979797a4488b6a851dee6830b6e7  \n",
       "6      01  5f8d9aeab7822156c69811430520616f  "
      ]
     },
     "execution_count": 166,
     "metadata": {},
     "output_type": "execute_result"
    }
   ],
   "source": [
    "# save\n",
    "group = raws.loc[0]\n",
    "filename = group.file\n",
    "df = raws_to_df(filename, group.group, group.version)\n",
    "\n",
    "save_to_db(df)\n",
    "save_to_file(df)\n"
   ]
  },
  {
   "cell_type": "code",
   "execution_count": 167,
   "metadata": {},
   "outputs": [],
   "source": [
    "def embeddingFromOpenAi(word, model=\"text-embedding-ada-002\"):\n",
    "    resp = openai.Embedding.create(\n",
    "        input=word,\n",
    "        model=model,\n",
    "    )\n",
    "    return resp['data'][0]['embedding']"
   ]
  },
  {
   "cell_type": "code",
   "execution_count": 168,
   "metadata": {},
   "outputs": [],
   "source": [
    "# read from file\n",
    "df = pd.read_csv(\"./staging/chunk-o-texts.csv\")\n",
    "# add embeddings from openai\n",
    "df[\"openaiembeddings\"] = df.text.apply(lambda x: embeddingFromOpenAi(x))"
   ]
  },
  {
   "cell_type": "code",
   "execution_count": 169,
   "metadata": {},
   "outputs": [
    {
     "data": {
      "text/html": [
       "<div>\n",
       "<style scoped>\n",
       "    .dataframe tbody tr th:only-of-type {\n",
       "        vertical-align: middle;\n",
       "    }\n",
       "\n",
       "    .dataframe tbody tr th {\n",
       "        vertical-align: top;\n",
       "    }\n",
       "\n",
       "    .dataframe thead th {\n",
       "        text-align: right;\n",
       "    }\n",
       "</style>\n",
       "<table border=\"1\" class=\"dataframe\">\n",
       "  <thead>\n",
       "    <tr style=\"text-align: right;\">\n",
       "      <th></th>\n",
       "      <th>text</th>\n",
       "      <th>group</th>\n",
       "      <th>version</th>\n",
       "      <th>hash</th>\n",
       "      <th>openaiembeddings</th>\n",
       "    </tr>\n",
       "  </thead>\n",
       "  <tbody>\n",
       "    <tr>\n",
       "      <th>0</th>\n",
       "      <td>In a land of dragons and magic, the kingdom of...</td>\n",
       "      <td>sample-fantasy01</td>\n",
       "      <td>1</td>\n",
       "      <td>0621c17894597a66153ded7a5665aa89</td>\n",
       "      <td>[0.007870780304074287, -0.013575596734881401, ...</td>\n",
       "    </tr>\n",
       "    <tr>\n",
       "      <th>1</th>\n",
       "      <td>A group of brave warriors set out on a quest t...</td>\n",
       "      <td>sample-fantasy01</td>\n",
       "      <td>1</td>\n",
       "      <td>41e3da99a58286a2be5605b30bebc665</td>\n",
       "      <td>[-0.0079183429479599, -0.03138423711061478, -0...</td>\n",
       "    </tr>\n",
       "    <tr>\n",
       "      <th>2</th>\n",
       "      <td>As they drew closer to the source of the darkn...</td>\n",
       "      <td>sample-fantasy01</td>\n",
       "      <td>1</td>\n",
       "      <td>a8bc979797a4488b6a851dee6830b6e7</td>\n",
       "      <td>[0.011024783365428448, -0.02303827553987503, -...</td>\n",
       "    </tr>\n",
       "    <tr>\n",
       "      <th>3</th>\n",
       "      <td>With peace restored, the kingdom of Lorem Ipsu...</td>\n",
       "      <td>sample-fantasy01</td>\n",
       "      <td>1</td>\n",
       "      <td>5f8d9aeab7822156c69811430520616f</td>\n",
       "      <td>[0.0024935307446867228, -0.021801359951496124,...</td>\n",
       "    </tr>\n",
       "  </tbody>\n",
       "</table>\n",
       "</div>"
      ],
      "text/plain": [
       "                                                text             group  \\\n",
       "0  In a land of dragons and magic, the kingdom of...  sample-fantasy01   \n",
       "1  A group of brave warriors set out on a quest t...  sample-fantasy01   \n",
       "2  As they drew closer to the source of the darkn...  sample-fantasy01   \n",
       "3  With peace restored, the kingdom of Lorem Ipsu...  sample-fantasy01   \n",
       "\n",
       "   version                              hash  \\\n",
       "0        1  0621c17894597a66153ded7a5665aa89   \n",
       "1        1  41e3da99a58286a2be5605b30bebc665   \n",
       "2        1  a8bc979797a4488b6a851dee6830b6e7   \n",
       "3        1  5f8d9aeab7822156c69811430520616f   \n",
       "\n",
       "                                    openaiembeddings  \n",
       "0  [0.007870780304074287, -0.013575596734881401, ...  \n",
       "1  [-0.0079183429479599, -0.03138423711061478, -0...  \n",
       "2  [0.011024783365428448, -0.02303827553987503, -...  \n",
       "3  [0.0024935307446867228, -0.021801359951496124,...  "
      ]
     },
     "execution_count": 169,
     "metadata": {},
     "output_type": "execute_result"
    }
   ],
   "source": [
    "save_to_db(df) \n",
    "save_to_file(df)"
   ]
  },
  {
   "cell_type": "code",
   "execution_count": 180,
   "metadata": {},
   "outputs": [],
   "source": [
    "# add similarities\n",
    "def add_similarities(df, compareToWordEmbeddings, sim_colname: str = \"similarities\", embedding_colname: str= \"openaiembeddings\"):\n",
    "    df[sim_colname] = df[embedding_colname].apply(lambda x: numpy.dot(x, compareToWordEmbeddings))\n",
    "    return df.sort_values(sim_colname, ascending=False)"
   ]
  },
  {
   "cell_type": "code",
   "execution_count": 181,
   "metadata": {},
   "outputs": [],
   "source": [
    "\n",
    "def compare(word, isPrintSimSum=False):\n",
    "  base = embeddingFromOpenAi(word)\n",
    "  sim = add_similarities(df, base)\n",
    "  print(\"base: \"+ word)\n",
    "  print(sim.iloc[0])\n",
    "  print(sim.iloc[0].text)\n",
    "  if isPrintSimSum:\n",
    "    print(sim)\n",
    "\n",
    "\n"
   ]
  },
  {
   "cell_type": "code",
   "execution_count": 182,
   "metadata": {},
   "outputs": [
    {
     "name": "stdout",
     "output_type": "stream",
     "text": [
      "base: kingdom\n",
      "text                In a land of dragons and magic, the kingdom of...\n",
      "group                                                sample-fantasy01\n",
      "version                                                             1\n",
      "hash                                 0621c17894597a66153ded7a5665aa89\n",
      "openaiembeddings    [0.007870780304074287, -0.013575596734881401, ...\n",
      "similarities                                                 0.812759\n",
      "Name: 0, dtype: object\n",
      "In a land of dragons and magic, the kingdom of Lorem Ipsum stood tall. The ruler, King Ipsum, was a just and fair leader, beloved by his people. But an ancient evil had awakened, and dark forces threatened to destroy the kingdom.\n",
      "\n"
     ]
    }
   ],
   "source": [
    "compare(\"kingdom\")"
   ]
  },
  {
   "cell_type": "code",
   "execution_count": 183,
   "metadata": {},
   "outputs": [
    {
     "name": "stdout",
     "output_type": "stream",
     "text": [
      "base: peaceful\n",
      "text                With peace restored, the kingdom of Lorem Ipsu...\n",
      "group                                                sample-fantasy01\n",
      "version                                                             1\n",
      "hash                                 5f8d9aeab7822156c69811430520616f\n",
      "openaiembeddings    [0.0024935307446867228, -0.021801359951496124,...\n",
      "similarities                                                 0.811483\n",
      "Name: 3, dtype: object\n",
      "With peace restored, the kingdom of Lorem Ipsum flourished once more. And the warriors were hailed as heroes, their names forever etched in the annals of history.\n"
     ]
    }
   ],
   "source": [
    "compare(\"peaceful\")"
   ]
  },
  {
   "cell_type": "code",
   "execution_count": 184,
   "metadata": {},
   "outputs": [
    {
     "name": "stdout",
     "output_type": "stream",
     "text": [
      "base: lost the battle, win the war\n",
      "text                As they drew closer to the source of the darkn...\n",
      "group                                                sample-fantasy01\n",
      "version                                                             1\n",
      "hash                                 a8bc979797a4488b6a851dee6830b6e7\n",
      "openaiembeddings    [0.011024783365428448, -0.02303827553987503, -...\n",
      "similarities                                                 0.831405\n",
      "Name: 2, dtype: object\n",
      "As they drew closer to the source of the darkness, they realized that they were not just fighting for Lorem Ipsum, but for the fate of the entire world. The final showdown was epic and legendary, with the warriors emerging victorious against overwhelming odds.\n",
      "\n"
     ]
    }
   ],
   "source": [
    "compare(\"lost the battle, win the war\")"
   ]
  },
  {
   "cell_type": "code",
   "execution_count": 185,
   "metadata": {},
   "outputs": [
    {
     "name": "stdout",
     "output_type": "stream",
     "text": [
      "base: Who is th ruler?\n",
      "text                In a land of dragons and magic, the kingdom of...\n",
      "group                                                sample-fantasy01\n",
      "version                                                             1\n",
      "hash                                 0621c17894597a66153ded7a5665aa89\n",
      "openaiembeddings    [0.007870780304074287, -0.013575596734881401, ...\n",
      "similarities                                                 0.803877\n",
      "Name: 0, dtype: object\n",
      "In a land of dragons and magic, the kingdom of Lorem Ipsum stood tall. The ruler, King Ipsum, was a just and fair leader, beloved by his people. But an ancient evil had awakened, and dark forces threatened to destroy the kingdom.\n",
      "\n"
     ]
    }
   ],
   "source": [
    "compare(\"Who is th ruler?\")"
   ]
  },
  {
   "cell_type": "code",
   "execution_count": 186,
   "metadata": {},
   "outputs": [
    {
     "name": "stdout",
     "output_type": "stream",
     "text": [
      "base: What is the conclusion of the story?\n",
      "text                As they drew closer to the source of the darkn...\n",
      "group                                                sample-fantasy01\n",
      "version                                                             1\n",
      "hash                                 a8bc979797a4488b6a851dee6830b6e7\n",
      "openaiembeddings    [0.011024783365428448, -0.02303827553987503, -...\n",
      "similarities                                                 0.811108\n",
      "Name: 2, dtype: object\n",
      "As they drew closer to the source of the darkness, they realized that they were not just fighting for Lorem Ipsum, but for the fate of the entire world. The final showdown was epic and legendary, with the warriors emerging victorious against overwhelming odds.\n",
      "\n",
      "                                                text             group  \\\n",
      "2  As they drew closer to the source of the darkn...  sample-fantasy01   \n",
      "1  A group of brave warriors set out on a quest t...  sample-fantasy01   \n",
      "3  With peace restored, the kingdom of Lorem Ipsu...  sample-fantasy01   \n",
      "0  In a land of dragons and magic, the kingdom of...  sample-fantasy01   \n",
      "\n",
      "   version                              hash  \\\n",
      "2        1  a8bc979797a4488b6a851dee6830b6e7   \n",
      "1        1  41e3da99a58286a2be5605b30bebc665   \n",
      "3        1  5f8d9aeab7822156c69811430520616f   \n",
      "0        1  0621c17894597a66153ded7a5665aa89   \n",
      "\n",
      "                                    openaiembeddings  similarities  \n",
      "2  [0.011024783365428448, -0.02303827553987503, -...      0.811108  \n",
      "1  [-0.0079183429479599, -0.03138423711061478, -0...      0.790892  \n",
      "3  [0.0024935307446867228, -0.021801359951496124,...      0.771932  \n",
      "0  [0.007870780304074287, -0.013575596734881401, ...      0.762262  \n"
     ]
    }
   ],
   "source": [
    "compare(\"What is the conclusion of the story?\", isPrintSimSum=True)"
   ]
  },
  {
   "cell_type": "code",
   "execution_count": 187,
   "metadata": {},
   "outputs": [
    {
     "name": "stdout",
     "output_type": "stream",
     "text": [
      "base: Who are they fighting for?\n",
      "text                As they drew closer to the source of the darkn...\n",
      "group                                                sample-fantasy01\n",
      "version                                                             1\n",
      "hash                                 a8bc979797a4488b6a851dee6830b6e7\n",
      "openaiembeddings    [0.011024783365428448, -0.02303827553987503, -...\n",
      "similarities                                                 0.803295\n",
      "Name: 2, dtype: object\n",
      "As they drew closer to the source of the darkness, they realized that they were not just fighting for Lorem Ipsum, but for the fate of the entire world. The final showdown was epic and legendary, with the warriors emerging victorious against overwhelming odds.\n",
      "\n"
     ]
    }
   ],
   "source": [
    "compare(\"Who are they fighting for?\")"
   ]
  },
  {
   "cell_type": "code",
   "execution_count": 188,
   "metadata": {},
   "outputs": [
    {
     "name": "stdout",
     "output_type": "stream",
     "text": [
      "base: The leader of the party\n",
      "text                In a land of dragons and magic, the kingdom of...\n",
      "group                                                sample-fantasy01\n",
      "version                                                             1\n",
      "hash                                 0621c17894597a66153ded7a5665aa89\n",
      "openaiembeddings    [0.007870780304074287, -0.013575596734881401, ...\n",
      "similarities                                                 0.756501\n",
      "Name: 0, dtype: object\n",
      "In a land of dragons and magic, the kingdom of Lorem Ipsum stood tall. The ruler, King Ipsum, was a just and fair leader, beloved by his people. But an ancient evil had awakened, and dark forces threatened to destroy the kingdom.\n",
      "\n"
     ]
    }
   ],
   "source": [
    "compare(\"The leader of the party\")"
   ]
  }
 ],
 "metadata": {
  "kernelspec": {
   "display_name": "Python 3 (ipykernel)",
   "language": "python",
   "name": "python3"
  },
  "language_info": {
   "codemirror_mode": {
    "name": "ipython",
    "version": 3
   },
   "file_extension": ".py",
   "mimetype": "text/x-python",
   "name": "python",
   "nbconvert_exporter": "python",
   "pygments_lexer": "ipython3",
   "version": "3.10.6"
  },
  "orig_nbformat": 4
 },
 "nbformat": 4,
 "nbformat_minor": 2
}
