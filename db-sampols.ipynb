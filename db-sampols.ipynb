{
 "cells": [
  {
   "cell_type": "code",
   "execution_count": 19,
   "metadata": {},
   "outputs": [
    {
     "name": "stdout",
     "output_type": "stream",
     "text": [
      "The dotenv extension is already loaded. To reload it, use:\n",
      "  %reload_ext dotenv\n",
      "awesome\n",
      "qgenforthelazies-dev\n",
      "localhost\n",
      "5432\n"
     ]
    }
   ],
   "source": [
    "import os\n",
    "import pandas as pd\n",
    "from sqlalchemy import create_engine\n",
    "import openai\n",
    "import numpy\n",
    "\n",
    "%load_ext dotenv\n",
    "%dotenv\n",
    "%reload_ext dotenv\n",
    "\n",
    "openai.api_key = os.getenv('OPENAI_API_KEY')\n",
    "\n",
    "print(os.getenv(\"POSTGRES_USER\"))\n",
    "print(os.getenv(\"POSTGRES_DB\"))\n",
    "print(os.getenv(\"POSTGRES_HOST\"))\n",
    "print(os.getenv(\"POSTGRES_PORT\"))\n"
   ]
  },
  {
   "cell_type": "code",
   "execution_count": 2,
   "metadata": {},
   "outputs": [],
   "source": [
    "# connect to db\n",
    "def get_db():\n",
    "  engine = create_engine(\n",
    "    \"postgresql://\" + os.getenv(\"POSTGRES_USER\") +\":\"+ os.getenv(\"POSTGRES_PASSWORD\") + \"@\" + os.getenv(\"POSTGRES_HOST\") +\":\"+ os.getenv(\"POSTGRES_PORT\") +\"/\"+ os.getenv(\"POSTGRES_DB\")\n",
    "  )\n",
    "  # conn = psycopg2.connect(\n",
    "  #     host=os.getenv(\"POSTGRES_HOST\"),\n",
    "  #     port=os.getenv(\"POSTGRES_PORT\"),\n",
    "  #     user=os.getenv(\"POSTGRES_USER\"),\n",
    "  #     password=os.getenv(\"POSTGRES_PASSWORD\"),\n",
    "  #     dbname=os.getenv(\"POSTGRES_DB\")\n",
    "  # )\n",
    "  return engine\n"
   ]
  },
  {
   "cell_type": "code",
   "execution_count": 3,
   "metadata": {},
   "outputs": [],
   "source": [
    "# read raws\n",
    "def load_raws ():\n",
    "  with open(\"./raws/sample01.txt\", \"r\") as f:\n",
    "      df = pd.DataFrame(f.readlines())\n",
    "      return df.drop(df[df[0] == \"\\n\"].index)"
   ]
  },
  {
   "cell_type": "code",
   "execution_count": 14,
   "metadata": {},
   "outputs": [],
   "source": [
    "# save to db\n",
    "def save_to_db (df):\n",
    "    # df = pd.DataFrame({\"text\": load_raws()[0]})\n",
    "    engine = get_db()\n",
    "    df.to_sql('chunk-o-texts', engine, if_exists='replace', index=False)\n",
    "    return df\n",
    "\n",
    "def save_to_file (df):\n",
    "    # df = pd.DataFrame({\"text\": load_raws()[0]})\n",
    "    df.to_csv('./staging/chunk-o-texts.csv', index=False)\n",
    "    return df\n"
   ]
  },
  {
   "cell_type": "code",
   "execution_count": 15,
   "metadata": {},
   "outputs": [
    {
     "data": {
      "text/html": [
       "<div>\n",
       "<style scoped>\n",
       "    .dataframe tbody tr th:only-of-type {\n",
       "        vertical-align: middle;\n",
       "    }\n",
       "\n",
       "    .dataframe tbody tr th {\n",
       "        vertical-align: top;\n",
       "    }\n",
       "\n",
       "    .dataframe thead th {\n",
       "        text-align: right;\n",
       "    }\n",
       "</style>\n",
       "<table border=\"1\" class=\"dataframe\">\n",
       "  <thead>\n",
       "    <tr style=\"text-align: right;\">\n",
       "      <th></th>\n",
       "      <th>text</th>\n",
       "    </tr>\n",
       "  </thead>\n",
       "  <tbody>\n",
       "    <tr>\n",
       "      <th>0</th>\n",
       "      <td>In a land of dragons and magic, the kingdom of...</td>\n",
       "    </tr>\n",
       "    <tr>\n",
       "      <th>2</th>\n",
       "      <td>A group of brave warriors set out on a quest t...</td>\n",
       "    </tr>\n",
       "    <tr>\n",
       "      <th>4</th>\n",
       "      <td>As they drew closer to the source of the darkn...</td>\n",
       "    </tr>\n",
       "    <tr>\n",
       "      <th>6</th>\n",
       "      <td>With peace restored, the kingdom of Lorem Ipsu...</td>\n",
       "    </tr>\n",
       "  </tbody>\n",
       "</table>\n",
       "</div>"
      ],
      "text/plain": [
       "                                                text\n",
       "0  In a land of dragons and magic, the kingdom of...\n",
       "2  A group of brave warriors set out on a quest t...\n",
       "4  As they drew closer to the source of the darkn...\n",
       "6  With peace restored, the kingdom of Lorem Ipsu..."
      ]
     },
     "execution_count": 15,
     "metadata": {},
     "output_type": "execute_result"
    }
   ],
   "source": [
    "# save\n",
    "df = pd.DataFrame({\"text\": load_raws()[0]})\n",
    "save_to_db(df)\n",
    "save_to_file(df)\n"
   ]
  },
  {
   "cell_type": "code",
   "execution_count": 16,
   "metadata": {},
   "outputs": [],
   "source": [
    "def embeddingFromOpenAi(word, model=\"text-embedding-ada-002\"):\n",
    "    resp = openai.Embedding.create(\n",
    "        input=word,\n",
    "        model=model,\n",
    "    )\n",
    "    return resp['data'][0]['embedding']"
   ]
  },
  {
   "cell_type": "code",
   "execution_count": 17,
   "metadata": {},
   "outputs": [],
   "source": [
    "# read from file\n",
    "df = pd.read_csv(\"./staging/chunk-o-texts.csv\")"
   ]
  },
  {
   "cell_type": "code",
   "execution_count": null,
   "metadata": {},
   "outputs": [],
   "source": [
    "# add embeddings from openai\n",
    "df[\"openaiembeddings\"] = df.text.apply(lambda x: embeddingFromOpenAi(x))"
   ]
  },
  {
   "cell_type": "code",
   "execution_count": 18,
   "metadata": {},
   "outputs": [
    {
     "data": {
      "text/html": [
       "<div>\n",
       "<style scoped>\n",
       "    .dataframe tbody tr th:only-of-type {\n",
       "        vertical-align: middle;\n",
       "    }\n",
       "\n",
       "    .dataframe tbody tr th {\n",
       "        vertical-align: top;\n",
       "    }\n",
       "\n",
       "    .dataframe thead th {\n",
       "        text-align: right;\n",
       "    }\n",
       "</style>\n",
       "<table border=\"1\" class=\"dataframe\">\n",
       "  <thead>\n",
       "    <tr style=\"text-align: right;\">\n",
       "      <th></th>\n",
       "      <th>text</th>\n",
       "      <th>openaiembeddings</th>\n",
       "    </tr>\n",
       "  </thead>\n",
       "  <tbody>\n",
       "    <tr>\n",
       "      <th>0</th>\n",
       "      <td>In a land of dragons and magic, the kingdom of...</td>\n",
       "      <td>[0.007870780304074287, -0.013575596734881401, ...</td>\n",
       "    </tr>\n",
       "    <tr>\n",
       "      <th>2</th>\n",
       "      <td>A group of brave warriors set out on a quest t...</td>\n",
       "      <td>[-0.0079183429479599, -0.03138423711061478, -0...</td>\n",
       "    </tr>\n",
       "    <tr>\n",
       "      <th>4</th>\n",
       "      <td>As they drew closer to the source of the darkn...</td>\n",
       "      <td>[0.011024783365428448, -0.02303827553987503, -...</td>\n",
       "    </tr>\n",
       "    <tr>\n",
       "      <th>6</th>\n",
       "      <td>With peace restored, the kingdom of Lorem Ipsu...</td>\n",
       "      <td>[0.0025072002317756414, -0.021801741793751717,...</td>\n",
       "    </tr>\n",
       "  </tbody>\n",
       "</table>\n",
       "</div>"
      ],
      "text/plain": [
       "                                                text  \\\n",
       "0  In a land of dragons and magic, the kingdom of...   \n",
       "2  A group of brave warriors set out on a quest t...   \n",
       "4  As they drew closer to the source of the darkn...   \n",
       "6  With peace restored, the kingdom of Lorem Ipsu...   \n",
       "\n",
       "                                    openaiembeddings  \n",
       "0  [0.007870780304074287, -0.013575596734881401, ...  \n",
       "2  [-0.0079183429479599, -0.03138423711061478, -0...  \n",
       "4  [0.011024783365428448, -0.02303827553987503, -...  \n",
       "6  [0.0025072002317756414, -0.021801741793751717,...  "
      ]
     },
     "execution_count": 18,
     "metadata": {},
     "output_type": "execute_result"
    }
   ],
   "source": [
    "save_to_db(df) \n",
    "save_to_file(df)"
   ]
  },
  {
   "cell_type": "code",
   "execution_count": 24,
   "metadata": {},
   "outputs": [],
   "source": [
    "# add similarities\n",
    "def add_similarities(df, compareToWordEmbeddings, sim_colname: str = \"similarities\", embedding_colname: str= \"openaiembeddings\"):\n",
    "    df[sim_colname] = df[embedding_colname].apply(lambda x: numpy.dot(x, compareToWordEmbeddings))\n",
    "    return df.sort_values(sim_colname, ascending=False)"
   ]
  },
  {
   "cell_type": "code",
   "execution_count": 25,
   "metadata": {},
   "outputs": [
    {
     "data": {
      "text/html": [
       "<div>\n",
       "<style scoped>\n",
       "    .dataframe tbody tr th:only-of-type {\n",
       "        vertical-align: middle;\n",
       "    }\n",
       "\n",
       "    .dataframe tbody tr th {\n",
       "        vertical-align: top;\n",
       "    }\n",
       "\n",
       "    .dataframe thead th {\n",
       "        text-align: right;\n",
       "    }\n",
       "</style>\n",
       "<table border=\"1\" class=\"dataframe\">\n",
       "  <thead>\n",
       "    <tr style=\"text-align: right;\">\n",
       "      <th></th>\n",
       "      <th>text</th>\n",
       "      <th>openaiembeddings</th>\n",
       "      <th>similarities</th>\n",
       "    </tr>\n",
       "  </thead>\n",
       "  <tbody>\n",
       "    <tr>\n",
       "      <th>0</th>\n",
       "      <td>In a land of dragons and magic, the kingdom of...</td>\n",
       "      <td>[0.007870780304074287, -0.013575596734881401, ...</td>\n",
       "      <td>0.812756</td>\n",
       "    </tr>\n",
       "    <tr>\n",
       "      <th>6</th>\n",
       "      <td>With peace restored, the kingdom of Lorem Ipsu...</td>\n",
       "      <td>[0.0025072002317756414, -0.021801741793751717,...</td>\n",
       "      <td>0.805126</td>\n",
       "    </tr>\n",
       "    <tr>\n",
       "      <th>2</th>\n",
       "      <td>A group of brave warriors set out on a quest t...</td>\n",
       "      <td>[-0.0079183429479599, -0.03138423711061478, -0...</td>\n",
       "      <td>0.804388</td>\n",
       "    </tr>\n",
       "    <tr>\n",
       "      <th>4</th>\n",
       "      <td>As they drew closer to the source of the darkn...</td>\n",
       "      <td>[0.011024783365428448, -0.02303827553987503, -...</td>\n",
       "      <td>0.777184</td>\n",
       "    </tr>\n",
       "  </tbody>\n",
       "</table>\n",
       "</div>"
      ],
      "text/plain": [
       "                                                text  \\\n",
       "0  In a land of dragons and magic, the kingdom of...   \n",
       "6  With peace restored, the kingdom of Lorem Ipsu...   \n",
       "2  A group of brave warriors set out on a quest t...   \n",
       "4  As they drew closer to the source of the darkn...   \n",
       "\n",
       "                                    openaiembeddings  similarities  \n",
       "0  [0.007870780304074287, -0.013575596734881401, ...      0.812756  \n",
       "6  [0.0025072002317756414, -0.021801741793751717,...      0.805126  \n",
       "2  [-0.0079183429479599, -0.03138423711061478, -0...      0.804388  \n",
       "4  [0.011024783365428448, -0.02303827553987503, -...      0.777184  "
      ]
     },
     "execution_count": 25,
     "metadata": {},
     "output_type": "execute_result"
    }
   ],
   "source": [
    "base = embeddingFromOpenAi(\"kingdom\")\n",
    "add_similarities(df, base)"
   ]
  },
  {
   "cell_type": "code",
   "execution_count": 26,
   "metadata": {},
   "outputs": [
    {
     "data": {
      "text/html": [
       "<div>\n",
       "<style scoped>\n",
       "    .dataframe tbody tr th:only-of-type {\n",
       "        vertical-align: middle;\n",
       "    }\n",
       "\n",
       "    .dataframe tbody tr th {\n",
       "        vertical-align: top;\n",
       "    }\n",
       "\n",
       "    .dataframe thead th {\n",
       "        text-align: right;\n",
       "    }\n",
       "</style>\n",
       "<table border=\"1\" class=\"dataframe\">\n",
       "  <thead>\n",
       "    <tr style=\"text-align: right;\">\n",
       "      <th></th>\n",
       "      <th>text</th>\n",
       "      <th>openaiembeddings</th>\n",
       "      <th>similarities</th>\n",
       "    </tr>\n",
       "  </thead>\n",
       "  <tbody>\n",
       "    <tr>\n",
       "      <th>6</th>\n",
       "      <td>With peace restored, the kingdom of Lorem Ipsu...</td>\n",
       "      <td>[0.0025072002317756414, -0.021801741793751717,...</td>\n",
       "      <td>0.821941</td>\n",
       "    </tr>\n",
       "    <tr>\n",
       "      <th>4</th>\n",
       "      <td>As they drew closer to the source of the darkn...</td>\n",
       "      <td>[0.011024783365428448, -0.02303827553987503, -...</td>\n",
       "      <td>0.783918</td>\n",
       "    </tr>\n",
       "    <tr>\n",
       "      <th>2</th>\n",
       "      <td>A group of brave warriors set out on a quest t...</td>\n",
       "      <td>[-0.0079183429479599, -0.03138423711061478, -0...</td>\n",
       "      <td>0.782836</td>\n",
       "    </tr>\n",
       "    <tr>\n",
       "      <th>0</th>\n",
       "      <td>In a land of dragons and magic, the kingdom of...</td>\n",
       "      <td>[0.007870780304074287, -0.013575596734881401, ...</td>\n",
       "      <td>0.773935</td>\n",
       "    </tr>\n",
       "  </tbody>\n",
       "</table>\n",
       "</div>"
      ],
      "text/plain": [
       "                                                text  \\\n",
       "6  With peace restored, the kingdom of Lorem Ipsu...   \n",
       "4  As they drew closer to the source of the darkn...   \n",
       "2  A group of brave warriors set out on a quest t...   \n",
       "0  In a land of dragons and magic, the kingdom of...   \n",
       "\n",
       "                                    openaiembeddings  similarities  \n",
       "6  [0.0025072002317756414, -0.021801741793751717,...      0.821941  \n",
       "4  [0.011024783365428448, -0.02303827553987503, -...      0.783918  \n",
       "2  [-0.0079183429479599, -0.03138423711061478, -0...      0.782836  \n",
       "0  [0.007870780304074287, -0.013575596734881401, ...      0.773935  "
      ]
     },
     "execution_count": 26,
     "metadata": {},
     "output_type": "execute_result"
    }
   ],
   "source": [
    "base = embeddingFromOpenAi(\"peace\")\n",
    "add_similarities(df, base)"
   ]
  },
  {
   "cell_type": "code",
   "execution_count": 27,
   "metadata": {},
   "outputs": [
    {
     "data": {
      "text/html": [
       "<div>\n",
       "<style scoped>\n",
       "    .dataframe tbody tr th:only-of-type {\n",
       "        vertical-align: middle;\n",
       "    }\n",
       "\n",
       "    .dataframe tbody tr th {\n",
       "        vertical-align: top;\n",
       "    }\n",
       "\n",
       "    .dataframe thead th {\n",
       "        text-align: right;\n",
       "    }\n",
       "</style>\n",
       "<table border=\"1\" class=\"dataframe\">\n",
       "  <thead>\n",
       "    <tr style=\"text-align: right;\">\n",
       "      <th></th>\n",
       "      <th>text</th>\n",
       "      <th>openaiembeddings</th>\n",
       "      <th>similarities</th>\n",
       "    </tr>\n",
       "  </thead>\n",
       "  <tbody>\n",
       "    <tr>\n",
       "      <th>6</th>\n",
       "      <td>With peace restored, the kingdom of Lorem Ipsu...</td>\n",
       "      <td>[0.0025072002317756414, -0.021801741793751717,...</td>\n",
       "      <td>0.841804</td>\n",
       "    </tr>\n",
       "    <tr>\n",
       "      <th>0</th>\n",
       "      <td>In a land of dragons and magic, the kingdom of...</td>\n",
       "      <td>[0.007870780304074287, -0.013575596734881401, ...</td>\n",
       "      <td>0.813046</td>\n",
       "    </tr>\n",
       "    <tr>\n",
       "      <th>2</th>\n",
       "      <td>A group of brave warriors set out on a quest t...</td>\n",
       "      <td>[-0.0079183429479599, -0.03138423711061478, -0...</td>\n",
       "      <td>0.797030</td>\n",
       "    </tr>\n",
       "    <tr>\n",
       "      <th>4</th>\n",
       "      <td>As they drew closer to the source of the darkn...</td>\n",
       "      <td>[0.011024783365428448, -0.02303827553987503, -...</td>\n",
       "      <td>0.772863</td>\n",
       "    </tr>\n",
       "  </tbody>\n",
       "</table>\n",
       "</div>"
      ],
      "text/plain": [
       "                                                text  \\\n",
       "6  With peace restored, the kingdom of Lorem Ipsu...   \n",
       "0  In a land of dragons and magic, the kingdom of...   \n",
       "2  A group of brave warriors set out on a quest t...   \n",
       "4  As they drew closer to the source of the darkn...   \n",
       "\n",
       "                                    openaiembeddings  similarities  \n",
       "6  [0.0025072002317756414, -0.021801741793751717,...      0.841804  \n",
       "0  [0.007870780304074287, -0.013575596734881401, ...      0.813046  \n",
       "2  [-0.0079183429479599, -0.03138423711061478, -0...      0.797030  \n",
       "4  [0.011024783365428448, -0.02303827553987503, -...      0.772863  "
      ]
     },
     "execution_count": 27,
     "metadata": {},
     "output_type": "execute_result"
    }
   ],
   "source": [
    "base = embeddingFromOpenAi(\"peaceful kingdom\")\n",
    "add_similarities(df, base)"
   ]
  },
  {
   "cell_type": "code",
   "execution_count": 28,
   "metadata": {},
   "outputs": [
    {
     "data": {
      "text/html": [
       "<div>\n",
       "<style scoped>\n",
       "    .dataframe tbody tr th:only-of-type {\n",
       "        vertical-align: middle;\n",
       "    }\n",
       "\n",
       "    .dataframe tbody tr th {\n",
       "        vertical-align: top;\n",
       "    }\n",
       "\n",
       "    .dataframe thead th {\n",
       "        text-align: right;\n",
       "    }\n",
       "</style>\n",
       "<table border=\"1\" class=\"dataframe\">\n",
       "  <thead>\n",
       "    <tr style=\"text-align: right;\">\n",
       "      <th></th>\n",
       "      <th>text</th>\n",
       "      <th>openaiembeddings</th>\n",
       "      <th>similarities</th>\n",
       "    </tr>\n",
       "  </thead>\n",
       "  <tbody>\n",
       "    <tr>\n",
       "      <th>4</th>\n",
       "      <td>As they drew closer to the source of the darkn...</td>\n",
       "      <td>[0.011024783365428448, -0.02303827553987503, -...</td>\n",
       "      <td>0.831405</td>\n",
       "    </tr>\n",
       "    <tr>\n",
       "      <th>2</th>\n",
       "      <td>A group of brave warriors set out on a quest t...</td>\n",
       "      <td>[-0.0079183429479599, -0.03138423711061478, -0...</td>\n",
       "      <td>0.804595</td>\n",
       "    </tr>\n",
       "    <tr>\n",
       "      <th>6</th>\n",
       "      <td>With peace restored, the kingdom of Lorem Ipsu...</td>\n",
       "      <td>[0.0025072002317756414, -0.021801741793751717,...</td>\n",
       "      <td>0.799290</td>\n",
       "    </tr>\n",
       "    <tr>\n",
       "      <th>0</th>\n",
       "      <td>In a land of dragons and magic, the kingdom of...</td>\n",
       "      <td>[0.007870780304074287, -0.013575596734881401, ...</td>\n",
       "      <td>0.759536</td>\n",
       "    </tr>\n",
       "  </tbody>\n",
       "</table>\n",
       "</div>"
      ],
      "text/plain": [
       "                                                text  \\\n",
       "4  As they drew closer to the source of the darkn...   \n",
       "2  A group of brave warriors set out on a quest t...   \n",
       "6  With peace restored, the kingdom of Lorem Ipsu...   \n",
       "0  In a land of dragons and magic, the kingdom of...   \n",
       "\n",
       "                                    openaiembeddings  similarities  \n",
       "4  [0.011024783365428448, -0.02303827553987503, -...      0.831405  \n",
       "2  [-0.0079183429479599, -0.03138423711061478, -0...      0.804595  \n",
       "6  [0.0025072002317756414, -0.021801741793751717,...      0.799290  \n",
       "0  [0.007870780304074287, -0.013575596734881401, ...      0.759536  "
      ]
     },
     "execution_count": 28,
     "metadata": {},
     "output_type": "execute_result"
    }
   ],
   "source": [
    "base = embeddingFromOpenAi(\"lost the battle, win the war\")\n",
    "add_similarities(df, base)"
   ]
  }
 ],
 "metadata": {
  "kernelspec": {
   "display_name": "Python 3 (ipykernel)",
   "language": "python",
   "name": "python3"
  },
  "language_info": {
   "codemirror_mode": {
    "name": "ipython",
    "version": 3
   },
   "file_extension": ".py",
   "mimetype": "text/x-python",
   "name": "python",
   "nbconvert_exporter": "python",
   "pygments_lexer": "ipython3",
   "version": "3.10.6"
  },
  "orig_nbformat": 4
 },
 "nbformat": 4,
 "nbformat_minor": 2
}
